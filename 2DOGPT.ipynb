{
  "nbformat": 4,
  "nbformat_minor": 0,
  "metadata": {
    "colab": {
      "provenance": [],
      "authorship_tag": "ABX9TyONLlMQB5JV/j735Ca+CKis",
      "include_colab_link": true
    },
    "kernelspec": {
      "name": "python3",
      "display_name": "Python 3"
    },
    "language_info": {
      "name": "python"
    }
  },
  "cells": [
    {
      "cell_type": "markdown",
      "metadata": {
        "id": "view-in-github",
        "colab_type": "text"
      },
      "source": [
        "<a href=\"https://colab.research.google.com/github/ss251/metabolism-22/blob/master/2DOGPT.ipynb\" target=\"_parent\"><img src=\"https://colab.research.google.com/assets/colab-badge.svg\" alt=\"Open In Colab\"/></a>"
      ]
    },
    {
      "cell_type": "code",
      "execution_count": null,
      "metadata": {
        "id": "MqlahY8zLcQW"
      },
      "outputs": [],
      "source": [
        "import os\n",
        "\n",
        "# Function to display the to-do list\n",
        "def display_todo_list(todo_list):\n",
        "    if not todo_list:\n",
        "        print(\"Your to-do list is empty.\")\n",
        "    else:\n",
        "        print(\"To-Do List:\")\n",
        "        for index, task in enumerate(todo_list, start=1):\n",
        "            print(f\"{index}. {task}\")\n",
        "\n",
        "# Function to add a task to the to-do list\n",
        "def add_task(todo_list, task):\n",
        "    todo_list.append(task)\n",
        "    print(f\"Task '{task}' added to the to-do list.\")\n",
        "\n",
        "# Function to mark a task as completed\n",
        "def complete_task(todo_list, index):\n",
        "    if 1 <= index <= len(todo_list):\n",
        "        completed_task = todo_list.pop(index - 1)\n",
        "        print(f\"Task '{completed_task}' marked as completed.\")\n",
        "    else:\n",
        "        print(\"Invalid task index. Please try again.\")\n",
        "\n",
        "# Main program loop\n",
        "if __name__ == \"__main__\":\n",
        "    todo_list = []\n",
        "\n",
        "    while True:\n",
        "        print(\"\\nOptions:\")\n",
        "        print(\"1. Display to-do list\")\n",
        "        print(\"2. Add a task\")\n",
        "        print(\"3. Mark a task as completed\")\n",
        "        print(\"4. Quit\")\n",
        "\n",
        "        choice = input(\"Enter your choice: \")\n",
        "\n",
        "        if choice == \"1\":\n",
        "            display_todo_list(todo_list)\n",
        "        elif choice == \"2\":\n",
        "            task = input(\"Enter the task: \")\n",
        "            add_task(todo_list, task)\n",
        "        elif choice == \"3\":\n",
        "            display_todo_list(todo_list)\n",
        "            index = int(input(\"Enter the index of the task to mark as completed: \"))\n",
        "            complete_task(todo_list, index)\n",
        "        elif choice == \"4\":\n",
        "            print(\"Goodbye!\")\n",
        "            break\n",
        "        else:\n",
        "            print(\"Invalid choice. Please try again.\")\n"
      ]
    }
  ]
}